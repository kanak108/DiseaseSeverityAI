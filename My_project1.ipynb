{
 "cells": [
  {
   "cell_type": "code",
   "execution_count": 1,
   "id": "aa49ca60-c0e5-4c20-a8c4-901f4601fab2",
   "metadata": {},
   "outputs": [
    {
     "data": {
      "text/html": [
       "<div>\n",
       "<style scoped>\n",
       "    .dataframe tbody tr th:only-of-type {\n",
       "        vertical-align: middle;\n",
       "    }\n",
       "\n",
       "    .dataframe tbody tr th {\n",
       "        vertical-align: top;\n",
       "    }\n",
       "\n",
       "    .dataframe thead th {\n",
       "        text-align: right;\n",
       "    }\n",
       "</style>\n",
       "<table border=\"1\" class=\"dataframe\">\n",
       "  <thead>\n",
       "    <tr style=\"text-align: right;\">\n",
       "      <th></th>\n",
       "      <th>Scorad score</th>\n",
       "      <th>severity</th>\n",
       "      <th>prakriti</th>\n",
       "    </tr>\n",
       "  </thead>\n",
       "  <tbody>\n",
       "    <tr>\n",
       "      <th>0</th>\n",
       "      <td>18.8</td>\n",
       "      <td>mild</td>\n",
       "      <td>KP</td>\n",
       "    </tr>\n",
       "    <tr>\n",
       "      <th>1</th>\n",
       "      <td>49.9</td>\n",
       "      <td>severe</td>\n",
       "      <td>VP</td>\n",
       "    </tr>\n",
       "    <tr>\n",
       "      <th>2</th>\n",
       "      <td>28.9</td>\n",
       "      <td>moderate</td>\n",
       "      <td>KP</td>\n",
       "    </tr>\n",
       "    <tr>\n",
       "      <th>3</th>\n",
       "      <td>50.8</td>\n",
       "      <td>severe</td>\n",
       "      <td>VP</td>\n",
       "    </tr>\n",
       "    <tr>\n",
       "      <th>4</th>\n",
       "      <td>64.1</td>\n",
       "      <td>severe</td>\n",
       "      <td>VP</td>\n",
       "    </tr>\n",
       "  </tbody>\n",
       "</table>\n",
       "</div>"
      ],
      "text/plain": [
       "   Scorad score  severity prakriti\n",
       "0          18.8      mild       KP\n",
       "1          49.9    severe       VP\n",
       "2          28.9  moderate       KP\n",
       "3          50.8    severe       VP\n",
       "4          64.1    severe       VP"
      ]
     },
     "execution_count": 1,
     "metadata": {},
     "output_type": "execute_result"
    }
   ],
   "source": [
    "import pandas as pd\n",
    "data = pd.read_excel('crux.xlsx')\n",
    "data.head()"
   ]
  },
  {
   "cell_type": "code",
   "execution_count": 2,
   "id": "a6a17e70-c0ca-45b3-bf46-96ca1e47795f",
   "metadata": {},
   "outputs": [
    {
     "name": "stdout",
     "output_type": "stream",
     "text": [
      "Features:\n",
      "0    KP\n",
      "1    VP\n",
      "2    KP\n",
      "3    VP\n",
      "Name: prakriti, dtype: object\n",
      "\n",
      "Labels:\n",
      "0    18.8\n",
      "1    49.9\n",
      "2    28.9\n",
      "3    50.8\n",
      "Name: Scorad score, dtype: float64\n",
      "Patient 1 \n",
      "  Features: ['K', 'P'] \n",
      "  Label: 18.8\n",
      "Patient 2 \n",
      "  Features: ['V', 'P'] \n",
      "  Label: 49.9\n",
      "Patient 3 \n",
      "  Features: ['K', 'P'] \n",
      "  Label: 28.9\n",
      "Patient 4 \n",
      "  Features: ['V', 'P'] \n",
      "  Label: 50.8\n"
     ]
    }
   ],
   "source": [
    "# Separate features and labels\n",
    "features = 'prakriti'\n",
    "label = 'Scorad score'\n",
    "X = data['prakriti']\n",
    "y = data['Scorad score']\n",
    "\n",
    "print('Features:',X[:4],'\\nLabels:', y[:4], sep='\\n')\n",
    "for n in range(0,4):\n",
    "    print(\"Patient\", str(n+1), \"\\n  Features:\",list(X[n]), \"\\n  Label:\", y[n])"
   ]
  },
  {
   "cell_type": "code",
   "execution_count": 3,
   "id": "e57d55f2-3b82-401f-9161-fdaaf2944ccc",
   "metadata": {},
   "outputs": [
    {
     "name": "stdout",
     "output_type": "stream",
     "text": [
      "Training Set: 70 rows\n",
      "Test Set: 30 rows\n"
     ]
    }
   ],
   "source": [
    "#distributing data\n",
    "from sklearn.model_selection import train_test_split\n",
    "\n",
    "# Split data 70%-30% into training set and test set\n",
    "X_train, X_test, y_train, y_test = train_test_split(X, y, test_size=0.30, random_state=0)\n",
    "\n",
    "print ('Training Set: %d rows\\nTest Set: %d rows' % (X_train.shape[0], X_test.shape[0]))"
   ]
  },
  {
   "cell_type": "code",
   "execution_count": 4,
   "id": "ef1c72ca-200b-44f3-a2df-2a7e26369676",
   "metadata": {},
   "outputs": [
    {
     "data": {
      "text/plain": [
       "\"\\nfrom sklearn.neighbors import KNeighborsClassifier\\nknn = KNeighborsClassifier(n_neighbors=7)\\nknn.fit(X_train, y_train)\\nprint(knn.predict(X_test))\\n\\n# Split data into train and test \\nX = df['prakriti']\\ny = df['score']\\nX_train, X_test, y_train, y_test = train_test_split(X, y)\\n\\n\\n# Check score on test data\\nprint('Accuracy on test data:', knn.score(X_test, y_test))\\n\""
      ]
     },
     "execution_count": 4,
     "metadata": {},
     "output_type": "execute_result"
    }
   ],
   "source": [
    "'''\n",
    "from sklearn.neighbors import KNeighborsClassifier\n",
    "knn = KNeighborsClassifier(n_neighbors=7)\n",
    "knn.fit(X_train, y_train)\n",
    "print(knn.predict(X_test))\n",
    "\n",
    "# Split data into train and test \n",
    "X = df['prakriti']\n",
    "y = df['score']\n",
    "X_train, X_test, y_train, y_test = train_test_split(X, y)\n",
    "\n",
    "\n",
    "# Check score on test data\n",
    "print('Accuracy on test data:', knn.score(X_test, y_test))\n",
    "'''"
   ]
  },
  {
   "cell_type": "code",
   "execution_count": 5,
   "id": "686ffb08-c904-48f6-bb41-67e53ca9be7b",
   "metadata": {},
   "outputs": [
    {
     "name": "stdout",
     "output_type": "stream",
     "text": [
      "Accuracy on test data: 0.84\n"
     ]
    }
   ],
   "source": [
    "import pandas as pd\n",
    "from sklearn.neighbors import KNeighborsClassifier\n",
    "from sklearn.model_selection import train_test_split\n",
    "\n",
    "df = pd.DataFrame(data, columns=['severity', 'prakriti'])\n",
    "\n",
    "# Convert categorical column to dummy variables  \n",
    "df = pd.get_dummies(df, columns=['prakriti'], dummy_na=False)\n",
    "\n",
    "X = df.drop('severity', axis=1) \n",
    "y = df['severity']\n",
    "\n",
    "X_train, X_test, y_train, y_test = train_test_split(X, y)\n",
    "\n",
    "knn = KNeighborsClassifier(n_neighbors=3).fit(X_train, y_train)\n",
    "\n",
    "print('Accuracy on test data:', knn.score(X_test, y_test))"
   ]
  },
  {
   "cell_type": "code",
   "execution_count": 6,
   "id": "b028b7fc-c2bd-4b60-84d3-13c8ff070df4",
   "metadata": {},
   "outputs": [
    {
     "name": "stdout",
     "output_type": "stream",
     "text": [
      "['moderate' 'severe' 'moderate' 'severe' 'severe' 'severe' 'moderate'\n",
      " 'severe' 'moderate' 'severe' 'severe' 'severe' 'severe' 'severe' 'severe'\n",
      " 'severe' 'moderate' 'severe' 'severe' 'severe' 'severe' 'moderate'\n",
      " 'severe' 'severe' 'severe']\n"
     ]
    }
   ],
   "source": [
    "predictions = knn.predict(X_test)\n",
    "print(predictions)"
   ]
  },
  {
   "cell_type": "code",
   "execution_count": 17,
   "id": "b1f302b4-ef5d-4164-b28d-31f0f1f1a11a",
   "metadata": {},
   "outputs": [
    {
     "name": "stdin",
     "output_type": "stream",
     "text": [
      "Enter prakriti (Vata/Pitta/Kapha):  VK\n"
     ]
    },
    {
     "name": "stdout",
     "output_type": "stream",
     "text": [
      "Predicted score for VK is: severe\n"
     ]
    }
   ],
   "source": [
    "from sklearn.preprocessing import LabelEncoder\n",
    "df = pd.DataFrame(data, columns=['severity','prakriti'])\n",
    "\n",
    "# Label Encode categorical column\n",
    "le = LabelEncoder()\n",
    "df['prakriti'] = le.fit_transform(df['prakriti'])\n",
    "\n",
    "X = df['prakriti'].to_numpy()\n",
    "y = df['severity'].to_numpy()\n",
    "\n",
    "# Train KNN model\n",
    "knn = KNeighborsClassifier(n_neighbors=3).fit(X.reshape(-1,1), y)\n",
    "\n",
    "# Take user input\n",
    "prakriti = input(\"Enter prakriti (Vata/Pitta/Kapha): \")\n",
    "encoded = le.transform([prakriti])\n",
    "\n",
    "# Predict score\n",
    "prediction = knn.predict(encoded.reshape(1,-1))\n",
    "print(f\"Predicted score for {prakriti} is: {prediction[0]}\")"
   ]
  },
  {
   "cell_type": "code",
   "execution_count": null,
   "id": "63fedf5f-8f5f-4861-815a-34f8c5d7e429",
   "metadata": {},
   "outputs": [],
   "source": []
  }
 ],
 "metadata": {
  "kernelspec": {
   "display_name": "Python 3 (ipykernel)",
   "language": "python",
   "name": "python3"
  },
  "language_info": {
   "codemirror_mode": {
    "name": "ipython",
    "version": 3
   },
   "file_extension": ".py",
   "mimetype": "text/x-python",
   "name": "python",
   "nbconvert_exporter": "python",
   "pygments_lexer": "ipython3",
   "version": "3.11.2"
  }
 },
 "nbformat": 4,
 "nbformat_minor": 5
}
